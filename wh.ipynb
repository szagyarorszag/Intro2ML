{
 "cells": [
  {
   "cell_type": "code",
   "outputs": [],
   "source": [
    "import pywhatkit as pwk\n",
    "\n",
    "try : \n",
    "    pwk.sendwhatmsg(\"+77023015659\", \"Hello World\", 0 , 0)\n",
    "    print(\"Message sent successfully\")\n",
    "except : print(\"Error sending\")"
   ],
   "metadata": {
    "collapsed": false,
    "is_executing": true
   },
   "id": "35c77de00e14bb84"
  },
  {
   "cell_type": "code",
   "outputs": [],
   "source": [],
   "metadata": {
    "collapsed": false
   },
   "id": "cce160cda42ec046"
  }
 ],
 "metadata": {
  "kernelspec": {
   "display_name": "Python 3",
   "language": "python",
   "name": "python3"
  },
  "language_info": {
   "codemirror_mode": {
    "name": "ipython",
    "version": 2
   },
   "file_extension": ".py",
   "mimetype": "text/x-python",
   "name": "python",
   "nbconvert_exporter": "python",
   "pygments_lexer": "ipython2",
   "version": "2.7.6"
  }
 },
 "nbformat": 4,
 "nbformat_minor": 5
}
