{
 "cells": [
  {
   "cell_type": "markdown",
   "id": "bf0d66b6",
   "metadata": {},
   "source": [
    "(HW5)=\n",
    "# HW5\n",
    "\n",
    "\n",
    "## Task 5.1 (1.5 points)\n",
    "\n",
    "For a one-dimensional gaussian $\\xi \\sim \\mathcal N(\\mu, \\sigma^2)$ there are well-known rules of one, two and three sigmas:\n",
    "\n",
    "* one-sigma rule: $\\mathbb P(\\vert \\xi - \\mu \\vert \\leqslant \\sigma) = \\Phi(1) - \\Phi(-1) \\approx 0.6827$ \n",
    "* two-sigma rule: $\\mathbb P(\\vert \\xi - \\mu \\vert \\leqslant 2\\sigma) = \\Phi(2) - \\Phi(-2) \\approx 0.9545$ \n",
    "* three-sigma rule: $\\mathbb P(\\vert \\xi - \\mu \\vert \\leqslant 3\\sigma) = \\Phi(3) - \\Phi(-3) \\approx 0.9973$ \n",
    "\n",
    "```{figure} https://news.mit.edu/sites/default/files/styles/news_article__image_gallery/public/images/201202/20120208160239-1_0.jpg?itok=1X1a_HCs\n",
    ":align: center\n",
    "```"
   ]
  },
  {
   "cell_type": "code",
   "execution_count": 4,
   "id": "b0653b57",
   "metadata": {},
   "outputs": [
    {
     "data": {
      "text/plain": [
       "(0.6826894921370859, 0.9544997361036416, 0.9973002039367398)"
      ]
     },
     "execution_count": 4,
     "metadata": {},
     "output_type": "execute_result"
    }
   ],
   "source": [
    "from scipy.stats import norm\n",
    "\n",
    "norm.cdf(1) - norm.cdf(-1), norm.cdf(2) - norm.cdf(-2), norm.cdf(3) - norm.cdf(-3)"
   ]
  },
  {
   "cell_type": "markdown",
   "id": "540fbd8a",
   "metadata": {},
   "source": [
    "Compute analagous values for a 2-d gaussian distribution $\\boldsymbol \\xi \\sim \\mathcal N(\\boldsymbol 0, \\boldsymbol I_2)$. Namely, find $\\mathbb P(\\Vert\\boldsymbol \\xi\\Vert_2 \\leqslant 1)$, $\\mathbb P(\\Vert\\boldsymbol \\xi\\Vert_2 \\leqslant 2)$, $\\mathbb P(\\Vert\\boldsymbol \\xi\\Vert_2 \\leqslant 3)$.\n",
    "\n",
    "**Note:** this problem assumes analytic solution. If you provide a reliable numeric solution, you'll receive $0.3$ points as bonus.\n",
    "\n",
    "### MY SOLUTION:\n",
    "$$\\text{For a 2-d Gaussian Distribution, the PDF is }f(x)=\\frac{1}{2 \\pi}e^{-\\frac{1}{2}x^{\\mathtt{T}}x}, \\text{ where x = }(x_1,x_2)^{\\mathtt{T}}$$\n",
    "\n",
    "$$\\text{We may simplify it to: } f(x)=\\frac{1}{2 \\pi}e^{-\\frac{1}{2}r^2}, \\text{ because } r = \\sqrt{x_1^2 + x_2^2}, \\text{ by the way relationship between Cartesian and polar coordinates like this : }$$\n",
    "\n",
    "$$x_1=r\\cos{\\theta}$$ \n",
    "\n",
    "$$x_2=r\\sin{\\theta}$$\n",
    "\n",
    "$$r - \\text{is the distance from the origin to the point and \\theta - the angle between x and the line connecting th origin with point} $$\n",
    "\n",
    "$$\\text{So we can see that } x^{\\mathtt{T}}x = x_1^2+x_2^2 = (r\\cos{\\theta})^2+(r\\sin{\\theta})^2=r^2(\\cos{\\theta}^2+\\sin{\\theta}^2) = r^2$$\n",
    "\n",
    "$$\\text{To find a probability that 2-d Gaussian random variable lies within a circle of a radius r in polar coordinates: }$$  \n",
    "\n",
    "$$ \\mathbb P(\\Vert\\boldsymbol \\xi\\Vert_2 \\leqslant r) = \\int_0^r \\int_0^{2\\pi} \\frac{1}{2\\pi}e^{-\\frac{1}{2}r^2} r d\\theta dr = \\int_0^r \\left[\\frac{1}{2\\pi}e^{-\\frac{1}{2}r^2} r \\theta \\right]_0^{2\\pi} dr= \\int_0^r \\left[ (\\frac{2\\pi}{2\\pi} e^{-\\frac{1}{2}r^2} r) - 0 \\right] dr = \\int_0^r e^{-\\frac{1}{2}r^2} r dr$$\n",
    "\n",
    "$$\\text{By using substitution rule } u = -\\frac{r^2}{2}, du = -rdr \\text{ Then : } - \\int_0^r e^udu = -[ e^{-\\frac{r^2}{2}}]_0^r=1-e^{-\\frac{r^2}{2}}$$ \n",
    "\n",
    "$$\\text{So the answer is : }\\mathbb P(\\Vert\\boldsymbol \\xi\\Vert_2 \\leqslant r) = 1-e^{-\\frac{r^2}{2}}$$ \n",
    "\n",
    "$$\\text{Below is numerical solution}$$ \n",
    "\n",
    "\n"
   ]
  },
  {
   "cell_type": "code",
   "outputs": [
    {
     "name": "stdout",
     "output_type": "stream",
     "text": [
      "ℙ (||ξ||₂ <= 1) = 0.3934693402873666\n",
      "ℙ (||ξ||₂ <= 2) = 0.8646647167633873\n",
      "ℙ (||ξ||₂ <= 3) = 0.9888910034617577\n"
     ]
    }
   ],
   "source": [
    "import numpy as np\n",
    "\n",
    "for r in [1,2,3]: \n",
    "    error = 1 - np.exp(-(r**2)/2)\n",
    "    print(f'ℙ (||ξ||₂ <= {r}) = {error}')"
   ],
   "metadata": {
    "collapsed": false,
    "ExecuteTime": {
     "end_time": "2024-02-25T14:36:39.529325Z",
     "start_time": "2024-02-25T14:36:39.514155600Z"
    }
   },
   "id": "9c4a12719c23546c",
   "execution_count": 29
  },
  {
   "cell_type": "markdown",
   "id": "d9ab4e02",
   "metadata": {},
   "source": [
    "\n",
    "## Task 5.2 (1.5 points)\n",
    "\n",
    "Let $X_1, \\ldots, X_n$ is an i.i.d. sample from $\\mathcal N(0, \\sigma^2)$ and $\\widehat \\sigma = \\frac 1n \\sum\\limits_{i=1}^n |X_i|$.\n",
    "\n",
    "* Find bias, se and MSE of the estimation $\\widehat \\sigma$. Is this estimation unbiased? (**0.7 points**)\n",
    "* If $\\widehat \\sigma$ turned out to be biased, fix it to get an unbiased estimation of $\\sigma$. Find se of this corrected estimation. Is it consistent? Justify your answer. (**0.8 points**)\n",
    "\n",
    "### YOUR SOLUTION HERE\n",
    "\n"
   ]
  },
  {
   "cell_type": "markdown",
   "id": "cebd2b22",
   "metadata": {},
   "source": [
    "## Task 5.3 (1 point)\n",
    "\n",
    "\n",
    "Let $X_1, \\ldots, X_n$ is an i.i.d. sample form $U[0, 2\\theta]$. The parameter $\\theta$ can be estimated as\n",
    "$\\widehat\\theta = \\overline X_n$ (sample average) or $\\tilde\\theta = \\mathrm{med}(X_1, \\ldots, X_n)$ (sample median). According to ML Handbook, both estimations are unbiased, and $\\mathbb V \\widehat\\theta = \\frac{\\theta^2}{3n}$, $\\mathbb V \\tilde\\theta = \\frac{\\theta^2}{n+3}$. Hence, due to the central limit theorem\n",
    "\n",
    "$$\n",
    "    \\widehat\\theta \\approx \\mathcal N\\Big(\\theta, \\frac{\\theta^2}{3n}\\Big), \\quad\n",
    "    \\tilde\\theta \\approx \\mathcal N\\Big(\\theta, \\frac{\\theta^2}{n+3}\\Big), \\quad n \\gg 1.\n",
    "$$\n",
    "\n",
    "Plot two histograms on the same plot verifying this theoretical statements. Add two dashed lines for gaussians as it done {ref}`here <CLT>`."
   ]
  },
  {
   "cell_type": "code",
   "outputs": [],
   "source": [],
   "metadata": {
    "collapsed": false
   },
   "id": "37d248d92b5b0272"
  }
 ],
 "metadata": {
  "celltoolbar": "Tags",
  "kernelspec": {
   "display_name": "Python 3 (ipykernel)",
   "language": "python",
   "name": "python3"
  },
  "language_info": {
   "codemirror_mode": {
    "name": "ipython",
    "version": 3
   },
   "file_extension": ".py",
   "mimetype": "text/x-python",
   "name": "python",
   "nbconvert_exporter": "python",
   "pygments_lexer": "ipython3",
   "version": "3.11.4"
  }
 },
 "nbformat": 4,
 "nbformat_minor": 5
}
